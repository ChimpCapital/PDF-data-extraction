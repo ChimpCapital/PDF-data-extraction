{
 "cells": [
  {
   "cell_type": "code",
   "execution_count": 33,
   "id": "8c304c43",
   "metadata": {
    "collapsed": true
   },
   "outputs": [
    {
     "name": "stdout",
     "output_type": "stream",
     "text": [
      "Requirement already satisfied: pdfplumber in /Users/jorgealvarez/opt/anaconda3/lib/python3.9/site-packages (0.6.1)\n",
      "Requirement already satisfied: pdfminer.six==20220319 in /Users/jorgealvarez/opt/anaconda3/lib/python3.9/site-packages (from pdfplumber) (20220319)\n",
      "Requirement already satisfied: Pillow>=9.1 in /Users/jorgealvarez/opt/anaconda3/lib/python3.9/site-packages (from pdfplumber) (9.1.0)\n",
      "Requirement already satisfied: Wand>=0.6.7 in /Users/jorgealvarez/opt/anaconda3/lib/python3.9/site-packages (from pdfplumber) (0.6.7)\n",
      "Requirement already satisfied: cryptography in /Users/jorgealvarez/opt/anaconda3/lib/python3.9/site-packages (from pdfminer.six==20220319->pdfplumber) (3.4.8)\n",
      "Requirement already satisfied: chardet in /Users/jorgealvarez/opt/anaconda3/lib/python3.9/site-packages (from pdfminer.six==20220319->pdfplumber) (4.0.0)\n",
      "Requirement already satisfied: cffi>=1.12 in /Users/jorgealvarez/opt/anaconda3/lib/python3.9/site-packages (from cryptography->pdfminer.six==20220319->pdfplumber) (1.14.6)\n",
      "Requirement already satisfied: pycparser in /Users/jorgealvarez/opt/anaconda3/lib/python3.9/site-packages (from cffi>=1.12->cryptography->pdfminer.six==20220319->pdfplumber) (2.20)\n"
     ]
    }
   ],
   "source": [
    "!pip install pdfplumber"
   ]
  },
  {
   "cell_type": "code",
   "execution_count": 34,
   "id": "add22b0a",
   "metadata": {
    "collapsed": true
   },
   "outputs": [
    {
     "name": "stdout",
     "output_type": "stream",
     "text": [
      "Requirement already satisfied: requests in /Users/jorgealvarez/opt/anaconda3/lib/python3.9/site-packages (2.26.0)\r\n",
      "Requirement already satisfied: urllib3<1.27,>=1.21.1 in /Users/jorgealvarez/opt/anaconda3/lib/python3.9/site-packages (from requests) (1.26.7)\r\n",
      "Requirement already satisfied: idna<4,>=2.5 in /Users/jorgealvarez/opt/anaconda3/lib/python3.9/site-packages (from requests) (3.2)\r\n",
      "Requirement already satisfied: charset-normalizer~=2.0.0 in /Users/jorgealvarez/opt/anaconda3/lib/python3.9/site-packages (from requests) (2.0.4)\r\n",
      "Requirement already satisfied: certifi>=2017.4.17 in /Users/jorgealvarez/opt/anaconda3/lib/python3.9/site-packages (from requests) (2021.10.8)\r\n"
     ]
    }
   ],
   "source": [
    "!pip install requests"
   ]
  },
  {
   "cell_type": "code",
   "execution_count": 35,
   "id": "ba779a81",
   "metadata": {
    "collapsed": true
   },
   "outputs": [
    {
     "name": "stdout",
     "output_type": "stream",
     "text": [
      "Requirement already satisfied: pandas in /Users/jorgealvarez/opt/anaconda3/lib/python3.9/site-packages (1.3.4)\r\n",
      "Requirement already satisfied: python-dateutil>=2.7.3 in /Users/jorgealvarez/opt/anaconda3/lib/python3.9/site-packages (from pandas) (2.8.2)\r\n",
      "Requirement already satisfied: pytz>=2017.3 in /Users/jorgealvarez/opt/anaconda3/lib/python3.9/site-packages (from pandas) (2021.3)\r\n",
      "Requirement already satisfied: numpy>=1.17.3 in /Users/jorgealvarez/opt/anaconda3/lib/python3.9/site-packages (from pandas) (1.20.3)\r\n",
      "Requirement already satisfied: six>=1.5 in /Users/jorgealvarez/opt/anaconda3/lib/python3.9/site-packages (from python-dateutil>=2.7.3->pandas) (1.16.0)\r\n"
     ]
    }
   ],
   "source": [
    "!pip install pandas"
   ]
  },
  {
   "cell_type": "code",
   "execution_count": 36,
   "id": "7097a41a",
   "metadata": {},
   "outputs": [],
   "source": [
    "import re\n",
    "\n",
    "import requests\n",
    "import pdfplumber\n",
    "import pandas as pd"
   ]
  },
  {
   "cell_type": "code",
   "execution_count": 37,
   "id": "f51f4b1f",
   "metadata": {},
   "outputs": [],
   "source": [
    "def download_file(url):\n",
    "    local_filename = url.split('/')[-1]\n",
    "    \n",
    "    with requests.get(url) as r:\n",
    "        with open(local_filename, 'wb') as f:\n",
    "            f.write(r.content)\n",
    "        \n",
    "    return local_filename"
   ]
  },
  {
   "cell_type": "code",
   "execution_count": 38,
   "id": "0cad837d",
   "metadata": {},
   "outputs": [],
   "source": [
    "ap_url = \"https://abc.xyz/investor/static/pdf/20210428_alphabet_10Q.pdf\""
   ]
  },
  {
   "cell_type": "code",
   "execution_count": 39,
   "id": "5d0406ff",
   "metadata": {},
   "outputs": [],
   "source": [
    "ap = download_file(ap_url)"
   ]
  },
  {
   "cell_type": "code",
   "execution_count": 40,
   "id": "2b60ce23",
   "metadata": {},
   "outputs": [],
   "source": [
    "with pdfplumber.open(ap) as pdf:\n",
    "    page = pdf.pages[4]\n",
    "    text = page.extract_text()"
   ]
  },
  {
   "cell_type": "code",
   "execution_count": null,
   "id": "86cd647f",
   "metadata": {},
   "outputs": [],
   "source": []
  },
  {
   "cell_type": "code",
   "execution_count": 41,
   "id": "2aa7ecd3",
   "metadata": {},
   "outputs": [
    {
     "name": "stdout",
     "output_type": "stream",
     "text": [
      "Table of Contents Alphabet Inc.\n",
      "PART I.  FINANCIAL INFORMATION\n",
      "ITEM 1. FINANCIAL STATEMENTS\n",
      "Alphabet Inc.\n",
      "CONSOLIDATED BALANCE SHEETS\n",
      "(in millions, except share amounts which are reflected in thousands, and par value per share amounts)\n",
      "As of  As of\n",
      "December 31, 2020 March 31, 2021\n",
      "(unaudited)\n",
      "Assets\n",
      "Current assets:\n",
      "Cash and cash equivalents $  26,465  $  26,622 \n",
      "Marketable securities   110,229    108,482 \n",
      "Total cash, cash equivalents, and marketable securities   136,694    135,104 \n",
      "Accounts receivable, net   30,930    28,006 \n",
      "Income taxes receivable, net   454    493 \n",
      "Inventory   728    888 \n",
      "Other current assets   5,490    7,646 \n",
      "Total current assets   174,296    172,137 \n",
      "Non-marketable investments   20,703    25,294 \n",
      "Deferred income taxes   1,084    1,129 \n",
      "Property and equipment, net   84,749    87,606 \n",
      "Operating lease assets   12,211    12,598 \n",
      "Intangible assets, net   1,445    1,823 \n",
      "Goodwill   21,175    22,341 \n",
      "Other non-current assets   3,953    4,167 \n",
      "Total assets $  319,616  $  327,095 \n",
      "Liabilities and Stockholders’ Equity\n",
      "Current liabilities:\n",
      "Accounts payable $  5,589  $  4,801 \n",
      "Accrued compensation and benefits   11,086    8,375 \n",
      "Accrued expenses and other current liabilities   28,631    30,732 \n",
      "Accrued revenue share   7,500    6,962 \n",
      "Deferred revenue   2,543    2,690 \n",
      "Income taxes payable, net   1,485    1,893 \n",
      "Total current liabilities   56,834    55,453 \n",
      "Long-term debt   13,932    13,887 \n",
      "Deferred revenue, non-current   481    530 \n",
      "Income taxes payable, non-current   8,849    9,278 \n",
      "Deferred income taxes   3,561    4,406 \n",
      "Operating lease liabilities   11,146    11,382 \n",
      "Other long-term liabilities   2,269    2,146 \n",
      "Total liabilities   97,072    97,082 \n",
      "Contingencies (Note 9)\n",
      "Stockholders’ equity:\n",
      "Convertible preferred stock, $0.001 par value per share, 100,000 shares \n",
      "  0    0 \n",
      "authorized; no shares issued and outstanding\n",
      "Class A and Class B common stock, and Class C capital stock and \n",
      "additional paid-in capital, $0.001 par value per share: 15,000,000 shares \n",
      "authorized (Class A 9,000,000, Class B 3,000,000, Class C 3,000,000); \n",
      "  58,510    59,436 \n",
      "675,222 (Class A 300,730, Class B 45,843, Class C 328,649) and \n",
      "671,094 (Class A 300,747, Class B 45,836, Class C 324,511) shares \n",
      "issued and outstanding\n",
      "Accumulated other comprehensive income (loss)   633    (3) \n",
      "Retained earnings   163,401    170,580 \n",
      "Total stockholders’ equity   222,544    230,013 \n",
      "Total liabilities and stockholders’ equity $  319,616  $  327,095 \n",
      "See accompanying notes.\n",
      "3\n"
     ]
    }
   ],
   "source": [
    "print (text)"
   ]
  },
  {
   "cell_type": "code",
   "execution_count": 45,
   "id": "b1153062",
   "metadata": {},
   "outputs": [],
   "source": [
    "new_vend_re = re.compile(r'[A-Z].*')\n"
   ]
  },
  {
   "cell_type": "code",
   "execution_count": 43,
   "id": "474d6404",
   "metadata": {},
   "outputs": [
    {
     "name": "stdout",
     "output_type": "stream",
     "text": [
      "Table of Contents Alphabet Inc.\n",
      "PART I.  FINANCIAL INFORMATION\n",
      "ITEM 1. FINANCIAL STATEMENTS\n",
      "Alphabet Inc.\n",
      "CONSOLIDATED BALANCE SHEETS\n",
      "As of  As of\n",
      "December 31, 2020 March 31, 2021\n",
      "Assets\n",
      "Current assets:\n",
      "Cash and cash equivalents $  26,465  $  26,622 \n",
      "Marketable securities   110,229    108,482 \n",
      "Total cash, cash equivalents, and marketable securities   136,694    135,104 \n",
      "Accounts receivable, net   30,930    28,006 \n",
      "Income taxes receivable, net   454    493 \n",
      "Inventory   728    888 \n",
      "Other current assets   5,490    7,646 \n",
      "Total current assets   174,296    172,137 \n",
      "Non-marketable investments   20,703    25,294 \n",
      "Deferred income taxes   1,084    1,129 \n",
      "Property and equipment, net   84,749    87,606 \n",
      "Operating lease assets   12,211    12,598 \n",
      "Intangible assets, net   1,445    1,823 \n",
      "Goodwill   21,175    22,341 \n",
      "Other non-current assets   3,953    4,167 \n",
      "Total assets $  319,616  $  327,095 \n",
      "Liabilities and Stockholders’ Equity\n",
      "Current liabilities:\n",
      "Accounts payable $  5,589  $  4,801 \n",
      "Accrued compensation and benefits   11,086    8,375 \n",
      "Accrued expenses and other current liabilities   28,631    30,732 \n",
      "Accrued revenue share   7,500    6,962 \n",
      "Deferred revenue   2,543    2,690 \n",
      "Income taxes payable, net   1,485    1,893 \n",
      "Total current liabilities   56,834    55,453 \n",
      "Long-term debt   13,932    13,887 \n",
      "Deferred revenue, non-current   481    530 \n",
      "Income taxes payable, non-current   8,849    9,278 \n",
      "Deferred income taxes   3,561    4,406 \n",
      "Operating lease liabilities   11,146    11,382 \n",
      "Other long-term liabilities   2,269    2,146 \n",
      "Total liabilities   97,072    97,082 \n",
      "Contingencies (Note 9)\n",
      "Stockholders’ equity:\n",
      "Convertible preferred stock, $0.001 par value per share, 100,000 shares \n",
      "Class A and Class B common stock, and Class C capital stock and \n",
      "Accumulated other comprehensive income (loss)   633    (3) \n",
      "Retained earnings   163,401    170,580 \n",
      "Total stockholders’ equity   222,544    230,013 \n",
      "Total liabilities and stockholders’ equity $  319,616  $  327,095 \n",
      "See accompanying notes.\n"
     ]
    }
   ],
   "source": [
    "for line in text.split('\\n'):\n",
    "    if new_vend_re.match(line):\n",
    "        print(line)"
   ]
  },
  {
   "cell_type": "code",
   "execution_count": null,
   "id": "5a569ae6",
   "metadata": {},
   "outputs": [],
   "source": [
    " "
   ]
  }
 ],
 "metadata": {
  "kernelspec": {
   "display_name": "Python 3 (ipykernel)",
   "language": "python",
   "name": "python3"
  },
  "language_info": {
   "codemirror_mode": {
    "name": "ipython",
    "version": 3
   },
   "file_extension": ".py",
   "mimetype": "text/x-python",
   "name": "python",
   "nbconvert_exporter": "python",
   "pygments_lexer": "ipython3",
   "version": "3.9.7"
  }
 },
 "nbformat": 4,
 "nbformat_minor": 5
}

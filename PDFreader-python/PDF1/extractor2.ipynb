{
 "cells": [
  {
   "cell_type": "code",
   "execution_count": 47,
   "id": "89c4fc7a",
   "metadata": {},
   "outputs": [],
   "source": [
    "import re\n",
    "\n",
    "import parse\n",
    "import pdfplumber\n",
    "import pandas as pd\n",
    "from collections import namedtuple"
   ]
  },
  {
   "cell_type": "code",
   "execution_count": 48,
   "id": "f4a17dae",
   "metadata": {},
   "outputs": [],
   "source": [
    "Line = namedtuple('Line', 'Assets Assets_as_of_Dec_31_2020 Assets_as_of_Mar_31_2020')\n"
   ]
  },
  {
   "cell_type": "code",
   "execution_count": 49,
   "id": "45639438",
   "metadata": {},
   "outputs": [],
   "source": [
    "###. define the pattern here with general expressions 5 letters followed buy blank blank\n",
    "### Letters follow by $ sign\n",
    "company_re = re.compile(r'(V\\d+) (.*) $')\n",
    "line_re = re.compile(r'\\d{5}/\\d{5}/\\d{5}')\n"
   ]
  },
  {
   "cell_type": "code",
   "execution_count": 50,
   "id": "cc28990a",
   "metadata": {},
   "outputs": [],
   "source": [
    "company_re.search('Alphabet Inc.')"
   ]
  },
  {
   "cell_type": "code",
   "execution_count": 51,
   "id": "1c09da87",
   "metadata": {},
   "outputs": [],
   "source": [
    "file = '20210428_alphabet_10Q.pdf'"
   ]
  },
  {
   "cell_type": "code",
   "execution_count": 54,
   "id": "7bf3f96b",
   "metadata": {},
   "outputs": [],
   "source": [
    "#with pdfplumber.open(ap) as pdf:\n",
    "#    page = pdf.pages[4]\n",
    "#    text = page.extract_text()"
   ]
  },
  {
   "cell_type": "code",
   "execution_count": 60,
   "id": "9c490c5e",
   "metadata": {},
   "outputs": [
    {
     "name": "stdout",
     "output_type": "stream",
     "text": [
      "20210428_alphabet_10Q.pdf\n"
     ]
    }
   ],
   "source": []
  },
  {
   "cell_type": "code",
   "execution_count": null,
   "id": "e96b3196",
   "metadata": {},
   "outputs": [],
   "source": []
  },
  {
   "cell_type": "code",
   "execution_count": null,
   "id": "709cdcc3",
   "metadata": {},
   "outputs": [],
   "source": []
  },
  {
   "cell_type": "code",
   "execution_count": null,
   "id": "0232d545",
   "metadata": {},
   "outputs": [],
   "source": []
  }
 ],
 "metadata": {
  "kernelspec": {
   "display_name": "Python 3 (ipykernel)",
   "language": "python",
   "name": "python3"
  },
  "language_info": {
   "codemirror_mode": {
    "name": "ipython",
    "version": 3
   },
   "file_extension": ".py",
   "mimetype": "text/x-python",
   "name": "python",
   "nbconvert_exporter": "python",
   "pygments_lexer": "ipython3",
   "version": "3.9.7"
  }
 },
 "nbformat": 4,
 "nbformat_minor": 5
}
